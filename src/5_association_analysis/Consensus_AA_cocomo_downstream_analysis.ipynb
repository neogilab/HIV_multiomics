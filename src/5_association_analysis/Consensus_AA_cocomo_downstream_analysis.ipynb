{
 "cells": [
  {
   "cell_type": "code",
   "execution_count": 5,
   "metadata": {},
   "outputs": [],
   "source": [
    "path = '/home/flomik/Desktop/Code-PHD/3_layers_integration/results/network/'\n",
    "name = 'AA_3_layers_filt_consensus'"
   ]
  },
  {
   "cell_type": "code",
   "execution_count": 6,
   "metadata": {},
   "outputs": [],
   "source": [
    "import sklearn, leidenalg, itertools, random\n",
    "import pandas as pd\n",
    "import numpy as np\n",
    "import igraph as ig\n",
    "import sklearn.neighbors\n",
    "import scipy as sp\n",
    "from statsmodels.stats.multitest import multipletests\n",
    "import gseapy as gp\n",
    "\n",
    "# Plotting\n",
    "import matplotlib.pyplot as plt\n",
    "import seaborn as sns\n",
    "%matplotlib inline"
   ]
  },
  {
   "cell_type": "code",
   "execution_count": 7,
   "metadata": {},
   "outputs": [],
   "source": [
    "def my_correlation(file):\n",
    "    \"\"\"\n",
    "        perform spearman correlation from file of values\n",
    "        Args:\n",
    "            file (str): pandas.core.frame.DataFrame with samples as column and features as rows\n",
    "        Returns:\n",
    "            PRmatrix(str): Correlation table\n",
    "    \"\"\"\n",
    "    Rmatrix, Pmatrix= sp.stats.spearmanr(file.T)\n",
    "    Rmatrix=pd.DataFrame(Rmatrix, index=data.index.copy(), columns=data.index.copy())\n",
    "    Pmatrix=pd.DataFrame(Pmatrix, index=data.index.copy(), columns=data.index.copy())\n",
    "\n",
    "    ###Prepares R and P matrices\n",
    "    Psquared=Pmatrix.where(np.triu(np.ones(Pmatrix.shape),1).astype(np.bool))\n",
    "    Psquared.columns.name='Feat2'\n",
    "    Pmatrix=Pmatrix.stack()\n",
    "    Pmatrix.index.names=['v1','v2']\n",
    "    Pmatrix=Pmatrix.reset_index()\n",
    "    Pmatrix.columns=['feat1','feat2','P']\n",
    "\n",
    "    Rmatrix=Rmatrix.where(np.triu(np.ones(Rmatrix.shape),1).astype(np.bool))\n",
    "    Rmatrix.columns.name='Feat2'\n",
    "    Rmatrix=Rmatrix.stack()\n",
    "    Rmatrix.index.names=['v1','v2'] #Avoid stacked names colliding\n",
    "    Rmatrix=Rmatrix.reset_index()\n",
    "    Rmatrix.columns=['feat1','feat2','R']\n",
    "\n",
    "    PRmatrix=pd.merge(Rmatrix.copy(), Pmatrix.copy(), on=['feat1','feat2']) #Correlation matrix with both R and P\n",
    "    PRmatrix=PRmatrix.loc[PRmatrix.feat1!=PRmatrix.feat2].dropna()\n",
    "    \n",
    "    ### Calculate FDR \n",
    "    FDR=pd.DataFrame(multipletests(PRmatrix['P'], method='fdr_bh', alpha=0.01)[1], columns=['FDR'])\n",
    "    PRmatrix=pd.concat([ PRmatrix, FDR], axis=1)\n",
    "    \n",
    "    return(PRmatrix)"
   ]
  },
  {
   "cell_type": "code",
   "execution_count": 8,
   "metadata": {},
   "outputs": [],
   "source": [
    "## load data\n",
    "lip=pd.read_csv('/home/flomik/Desktop/Code-PHD/3_layers_integration/processing/data_lip_filt_SNF.csv', index_col=0)\n",
    "met=pd.read_csv('/home/flomik/Desktop/Code-PHD/3_layers_integration/processing/data_met_filt_SNF.csv', index_col=0)\n",
    "mi=pd.read_csv('/home/flomik/Desktop/Code-PHD/3_layers_integration/processing/data_mi_filt_SNF.csv', index_col=0)"
   ]
  },
  {
   "cell_type": "code",
   "execution_count": 9,
   "metadata": {},
   "outputs": [
    {
     "data": {
      "text/plain": [
       "1626"
      ]
     },
     "execution_count": 9,
     "metadata": {},
     "output_type": "execute_result"
    }
   ],
   "source": [
    "a = len(lip.columns)\n",
    "b = len(met.columns)\n",
    "c = len(mi.columns)\n",
    "a + b + c"
   ]
  },
  {
   "cell_type": "code",
   "execution_count": 10,
   "metadata": {},
   "outputs": [],
   "source": [
    "## make table conversion\n",
    "conv_1 = pd.DataFrame({'feat1':lip.columns,\n",
    "                   'type_1': [\"lip\"]*len(lip.columns),\n",
    "                  }, columns = ['feat1', 'type_1'])\n",
    "conv_2 = pd.DataFrame({'feat1':met.columns,\n",
    "                   'type_1': [\"met\"]*len(met.columns),\n",
    "                  }, columns = ['feat1', 'type_1'])\n",
    "conv_3 = pd.DataFrame({'feat1':mi.columns,\n",
    "                   'type_1': [\"mic\"]*len(mi.columns),\n",
    "                  }, columns = ['feat1', 'type_1'])\n",
    "conv = pd.concat([conv_1, conv_2, conv_3])"
   ]
  },
  {
   "cell_type": "code",
   "execution_count": 11,
   "metadata": {},
   "outputs": [],
   "source": [
    "input = path + 'type_features' + name + '.csv'\n",
    "conv.to_csv(input, index=False)"
   ]
  },
  {
   "cell_type": "code",
   "execution_count": 12,
   "metadata": {},
   "outputs": [
    {
     "data": {
      "text/html": [
       "<div>\n",
       "<style scoped>\n",
       "    .dataframe tbody tr th:only-of-type {\n",
       "        vertical-align: middle;\n",
       "    }\n",
       "\n",
       "    .dataframe tbody tr th {\n",
       "        vertical-align: top;\n",
       "    }\n",
       "\n",
       "    .dataframe thead th {\n",
       "        text-align: right;\n",
       "    }\n",
       "</style>\n",
       "<table border=\"1\" class=\"dataframe\">\n",
       "  <thead>\n",
       "    <tr style=\"text-align: right;\">\n",
       "      <th></th>\n",
       "      <th>Comp</th>\n",
       "      <th>Comp_type</th>\n",
       "      <th>R</th>\n",
       "      <th>I</th>\n",
       "    </tr>\n",
       "  </thead>\n",
       "  <tbody>\n",
       "  </tbody>\n",
       "</table>\n",
       "</div>"
      ],
      "text/plain": [
       "Empty DataFrame\n",
       "Columns: [Comp, Comp_type, R, I]\n",
       "Index: []"
      ]
     },
     "execution_count": 12,
     "metadata": {},
     "output_type": "execute_result"
    }
   ],
   "source": [
    "## Set empty dataframe\n",
    "df= pd.DataFrame(columns = ['Comp', 'Comp_type', 'R', 'I'])\n",
    "df"
   ]
  },
  {
   "cell_type": "code",
   "execution_count": 13,
   "metadata": {},
   "outputs": [],
   "source": [
    "PRmatrix= pd.read_csv('/home/flomik/Desktop/Code-PHD/3_layers_integration/processing/final_list', sep = '_')"
   ]
  },
  {
   "cell_type": "code",
   "execution_count": 14,
   "metadata": {},
   "outputs": [
    {
     "data": {
      "text/html": [
       "<div>\n",
       "<style scoped>\n",
       "    .dataframe tbody tr th:only-of-type {\n",
       "        vertical-align: middle;\n",
       "    }\n",
       "\n",
       "    .dataframe tbody tr th {\n",
       "        vertical-align: top;\n",
       "    }\n",
       "\n",
       "    .dataframe thead th {\n",
       "        text-align: right;\n",
       "    }\n",
       "</style>\n",
       "<table border=\"1\" class=\"dataframe\">\n",
       "  <thead>\n",
       "    <tr style=\"text-align: right;\">\n",
       "      <th></th>\n",
       "      <th>feat1</th>\n",
       "      <th>feat2</th>\n",
       "      <th>R</th>\n",
       "    </tr>\n",
       "  </thead>\n",
       "  <tbody>\n",
       "    <tr>\n",
       "      <th>0</th>\n",
       "      <td>(12 or 13)-methylmyristate (a15:0 or i15:0)</td>\n",
       "      <td>(14 or 15)-methylpalmitate (a17:0 or i17:0)</td>\n",
       "      <td>0.862100</td>\n",
       "    </tr>\n",
       "    <tr>\n",
       "      <th>1</th>\n",
       "      <td>(12 or 13)-methylmyristate (a15:0 or i15:0)</td>\n",
       "      <td>(16 or 17)-methylstearate (a19:0 or i19:0)</td>\n",
       "      <td>0.806517</td>\n",
       "    </tr>\n",
       "    <tr>\n",
       "      <th>2</th>\n",
       "      <td>(12 or 13)-methylmyristate (a15:0 or i15:0)</td>\n",
       "      <td>(2 or 3)-decenoate (10:1n7 or n8)</td>\n",
       "      <td>0.579352</td>\n",
       "    </tr>\n",
       "    <tr>\n",
       "      <th>3</th>\n",
       "      <td>(12 or 13)-methylmyristate (a15:0 or i15:0)</td>\n",
       "      <td>10-heptadecenoate (17:1n7)</td>\n",
       "      <td>0.755273</td>\n",
       "    </tr>\n",
       "    <tr>\n",
       "      <th>4</th>\n",
       "      <td>(12 or 13)-methylmyristate (a15:0 or i15:0)</td>\n",
       "      <td>10-nonadecenoate (19:1n9)</td>\n",
       "      <td>0.801560</td>\n",
       "    </tr>\n",
       "  </tbody>\n",
       "</table>\n",
       "</div>"
      ],
      "text/plain": [
       "                                         feat1  \\\n",
       "0  (12 or 13)-methylmyristate (a15:0 or i15:0)   \n",
       "1  (12 or 13)-methylmyristate (a15:0 or i15:0)   \n",
       "2  (12 or 13)-methylmyristate (a15:0 or i15:0)   \n",
       "3  (12 or 13)-methylmyristate (a15:0 or i15:0)   \n",
       "4  (12 or 13)-methylmyristate (a15:0 or i15:0)   \n",
       "\n",
       "                                         feat2         R  \n",
       "0  (14 or 15)-methylpalmitate (a17:0 or i17:0)  0.862100  \n",
       "1   (16 or 17)-methylstearate (a19:0 or i19:0)  0.806517  \n",
       "2            (2 or 3)-decenoate (10:1n7 or n8)  0.579352  \n",
       "3                   10-heptadecenoate (17:1n7)  0.755273  \n",
       "4                    10-nonadecenoate (19:1n9)  0.801560  "
      ]
     },
     "execution_count": 14,
     "metadata": {},
     "output_type": "execute_result"
    }
   ],
   "source": [
    "PRmatrix.head()"
   ]
  },
  {
   "cell_type": "code",
   "execution_count": 15,
   "metadata": {},
   "outputs": [],
   "source": [
    "fdr_pos_mat=PRmatrix.loc[PRmatrix['R']>0]\n",
    "fdr_neg_mat=PRmatrix.loc[PRmatrix['R']<0]\n",
    "PRmatrix=PRmatrix.loc[PRmatrix.isin(pd.unique(fdr_pos_mat[['feat1','feat2']].values.flatten())).sum(1)==2,]"
   ]
  },
  {
   "cell_type": "code",
   "execution_count": 16,
   "metadata": {},
   "outputs": [
    {
     "data": {
      "text/plain": [
       "(131863, 3)"
      ]
     },
     "execution_count": 16,
     "metadata": {},
     "output_type": "execute_result"
    }
   ],
   "source": [
    "fdr_pos_mat.shape"
   ]
  },
  {
   "cell_type": "code",
   "execution_count": 17,
   "metadata": {},
   "outputs": [
    {
     "data": {
      "text/plain": [
       "(0, 3)"
      ]
     },
     "execution_count": 17,
     "metadata": {},
     "output_type": "execute_result"
    }
   ],
   "source": [
    "fdr_neg_mat.shape"
   ]
  },
  {
   "cell_type": "code",
   "execution_count": 18,
   "metadata": {},
   "outputs": [],
   "source": [
    "input = path + 'network_correlation_positive_' + name +'.csv'\n",
    "fdr_pos_mat.to_csv(input, index=False)\n",
    "input = path + 'network_correlation_positive_' + name +'.txt'\n",
    "fdr_pos_mat.to_csv(input, sep='\\t', mode='a')\n",
    "input = path + 'network_correlation_positive_' + name +'.xlsx'\n",
    "fdr_pos_mat.to_excel(input, index = False)"
   ]
  },
  {
   "cell_type": "code",
   "execution_count": 19,
   "metadata": {
    "scrolled": true
   },
   "outputs": [
    {
     "data": {
      "image/png": "[encoded data removed]",
      "text/plain": [
       "<Figure size 576x288 with 1 Axes>"
      ]
     },
     "metadata": {
      "needs_background": "light"
     },
     "output_type": "display_data"
    }
   ],
   "source": [
    "shortPR=PRmatrix.copy().loc[:,['feat1','feat2','R']]\n",
    "shortPR=shortPR.loc[shortPR.feat1!=shortPR.feat2]\n",
    "\n",
    "fig=plt.figure(figsize=(8,4))\n",
    "g=sns.distplot(shortPR['R'][shortPR['R']!=0], color='r');\n",
    "g.set(ylabel='PDF (FDR)')\n",
    "\n",
    "fig.legend(labels=['fdr (<0.000001)']);\n",
    "plt.xlabel('R')\n",
    "plt.title('Distribution of correlation coefficients')\n",
    "input = path + 'distribution_corr_coeff_'+ name + 'svg'\n",
    "plt.savefig(input, format='svg', dpi=1200)\n",
    "\n",
    "plt.show()"
   ]
  },
  {
   "cell_type": "code",
   "execution_count": 20,
   "metadata": {},
   "outputs": [],
   "source": [
    "pos_w=ig.Graph.TupleList([tuple(x) for x in fdr_pos_mat.values], directed=False, edge_attrs=['w'])\n",
    "\n",
    "#negative association, weighted\n",
    "neg_w=ig.Graph.TupleList([tuple(x) for x in fdr_neg_mat.values], directed=False, edge_attrs=['w'])\n",
    "\n",
    "#random network, unweighted, node and edge number based on a network of the same size\n",
    "randomG=ig.Graph.Erdos_Renyi(\n",
    "    n=pos_w.vcount(), \n",
    "    m=pos_w.ecount(), directed=False, loops=False)\n",
    "\n",
    "randomG_2=ig.Graph.Erdos_Renyi(\n",
    "    n=neg_w.vcount(), \n",
    "    m=neg_w.ecount(), directed=False, loops=False)"
   ]
  },
  {
   "cell_type": "code",
   "execution_count": 21,
   "metadata": {},
   "outputs": [
    {
     "data": {
      "text/html": [
       "<div>\n",
       "<style scoped>\n",
       "    .dataframe tbody tr th:only-of-type {\n",
       "        vertical-align: middle;\n",
       "    }\n",
       "\n",
       "    .dataframe tbody tr th {\n",
       "        vertical-align: top;\n",
       "    }\n",
       "\n",
       "    .dataframe thead th {\n",
       "        text-align: right;\n",
       "    }\n",
       "</style>\n",
       "<table border=\"1\" class=\"dataframe\">\n",
       "  <thead>\n",
       "    <tr style=\"text-align: right;\">\n",
       "      <th></th>\n",
       "      <th>node_count</th>\n",
       "      <th>edge_count</th>\n",
       "      <th>diameter</th>\n",
       "      <th>av_path_length</th>\n",
       "      <th>density</th>\n",
       "      <th>clustering_coef</th>\n",
       "      <th>connected?</th>\n",
       "      <th>minimum_cut</th>\n",
       "    </tr>\n",
       "  </thead>\n",
       "  <tbody>\n",
       "    <tr>\n",
       "      <th>pos_w</th>\n",
       "      <td>1324</td>\n",
       "      <td>131863</td>\n",
       "      <td>18</td>\n",
       "      <td>3.6814</td>\n",
       "      <td>0.150558</td>\n",
       "      <td>0.839596</td>\n",
       "      <td>False</td>\n",
       "      <td>0</td>\n",
       "    </tr>\n",
       "    <tr>\n",
       "      <th>neg_w</th>\n",
       "      <td>0</td>\n",
       "      <td>0</td>\n",
       "      <td>0</td>\n",
       "      <td>NaN</td>\n",
       "      <td>NaN</td>\n",
       "      <td>NaN</td>\n",
       "      <td>True</td>\n",
       "      <td>0</td>\n",
       "    </tr>\n",
       "    <tr>\n",
       "      <th>random</th>\n",
       "      <td>1324</td>\n",
       "      <td>131863</td>\n",
       "      <td>2</td>\n",
       "      <td>1.84944</td>\n",
       "      <td>0.150558</td>\n",
       "      <td>0.150685</td>\n",
       "      <td>True</td>\n",
       "      <td>159</td>\n",
       "    </tr>\n",
       "    <tr>\n",
       "      <th>random_2</th>\n",
       "      <td>0</td>\n",
       "      <td>0</td>\n",
       "      <td>0</td>\n",
       "      <td>NaN</td>\n",
       "      <td>NaN</td>\n",
       "      <td>NaN</td>\n",
       "      <td>True</td>\n",
       "      <td>0</td>\n",
       "    </tr>\n",
       "  </tbody>\n",
       "</table>\n",
       "</div>"
      ],
      "text/plain": [
       "         node_count edge_count diameter av_path_length   density  \\\n",
       "pos_w          1324     131863       18         3.6814  0.150558   \n",
       "neg_w             0          0        0            NaN       NaN   \n",
       "random         1324     131863        2        1.84944  0.150558   \n",
       "random_2          0          0        0            NaN       NaN   \n",
       "\n",
       "         clustering_coef connected? minimum_cut  \n",
       "pos_w           0.839596      False           0  \n",
       "neg_w                NaN       True           0  \n",
       "random          0.150685       True         159  \n",
       "random_2             NaN       True           0  "
      ]
     },
     "execution_count": 21,
     "metadata": {},
     "output_type": "execute_result"
    }
   ],
   "source": [
    "#function to get graph properties, takes a few minutes to run\n",
    "def graph_prop(input_graph):\n",
    "    ncount=nn.vcount()\n",
    "    ecount=nn.ecount()\n",
    "    diameter=nn.diameter()\n",
    "    av_path=nn.average_path_length()\n",
    "    dens=nn.density()\n",
    "    clustering=nn.transitivity_undirected() #this is the global clustering coefficient\n",
    "    conn=nn.is_connected()\n",
    "    min_cut=nn.mincut_value()\n",
    "    out=pd.DataFrame([ncount, ecount, diameter, av_path, dens, clustering, conn, min_cut],\n",
    "                 index=['node_count','edge_count','diameter','av_path_length','density','clustering_coef','connected?','minimum_cut']).T\n",
    "    return(out)\n",
    "\n",
    "#summarizing graph properties\n",
    "network_stats=pd.DataFrame()\n",
    "for nn in [pos_w, neg_w, randomG, randomG_2]:\n",
    "    network_stats=pd.concat([network_stats,graph_prop(nn)])\n",
    "    \n",
    "network_stats.index=['pos_w','neg_w', 'random', 'random_2']\n",
    "network_stats"
   ]
  },
  {
   "cell_type": "code",
   "execution_count": 22,
   "metadata": {
    "scrolled": true
   },
   "outputs": [
    {
     "ename": "IndexError",
     "evalue": "list index out of range",
     "output_type": "error",
     "traceback": [
      "\u001b[0;31m---------------------------------------------------------------------------\u001b[0m",
      "\u001b[0;31mIndexError\u001b[0m                                Traceback (most recent call last)",
      "\u001b[0;32m<ipython-input-22-610e815c4398>\u001b[0m in \u001b[0;36m<module>\u001b[0;34m\u001b[0m\n\u001b[1;32m      8\u001b[0m \u001b[0mcol\u001b[0m\u001b[0;34m=\u001b[0m\u001b[0;34m[\u001b[0m\u001b[0;34m'blue'\u001b[0m\u001b[0;34m,\u001b[0m\u001b[0;34m''\u001b[0m\u001b[0;34m,\u001b[0m\u001b[0;34m'lightsalmon'\u001b[0m\u001b[0;34m,\u001b[0m\u001b[0;34m''\u001b[0m\u001b[0;34m,\u001b[0m\u001b[0;34m'green'\u001b[0m\u001b[0;34m,\u001b[0m \u001b[0;34m''\u001b[0m\u001b[0;34m,\u001b[0m\u001b[0;34m'red'\u001b[0m\u001b[0;34m]\u001b[0m\u001b[0;34m\u001b[0m\u001b[0m\n\u001b[1;32m      9\u001b[0m \u001b[0;32mfor\u001b[0m \u001b[0mx\u001b[0m \u001b[0;32min\u001b[0m \u001b[0mnp\u001b[0m\u001b[0;34m.\u001b[0m\u001b[0marange\u001b[0m\u001b[0;34m(\u001b[0m\u001b[0;36m0\u001b[0m\u001b[0;34m,\u001b[0m\u001b[0;36m7\u001b[0m\u001b[0;34m,\u001b[0m\u001b[0;36m2\u001b[0m\u001b[0;34m)\u001b[0m\u001b[0;34m:\u001b[0m\u001b[0;34m\u001b[0m\u001b[0m\n\u001b[0;32m---> 10\u001b[0;31m     \u001b[0max\u001b[0m\u001b[0;34m.\u001b[0m\u001b[0mget_lines\u001b[0m\u001b[0;34m(\u001b[0m\u001b[0;34m)\u001b[0m\u001b[0;34m[\u001b[0m\u001b[0mx\u001b[0m\u001b[0;34m]\u001b[0m\u001b[0;34m.\u001b[0m\u001b[0mset_markerfacecolor\u001b[0m\u001b[0;34m(\u001b[0m\u001b[0mcol\u001b[0m\u001b[0;34m[\u001b[0m\u001b[0mx\u001b[0m\u001b[0;34m]\u001b[0m\u001b[0;34m)\u001b[0m\u001b[0;34m\u001b[0m\u001b[0m\n\u001b[0m\u001b[1;32m     11\u001b[0m     \u001b[0max\u001b[0m\u001b[0;34m.\u001b[0m\u001b[0mget_lines\u001b[0m\u001b[0;34m(\u001b[0m\u001b[0;34m)\u001b[0m\u001b[0;34m[\u001b[0m\u001b[0mx\u001b[0m\u001b[0;34m]\u001b[0m\u001b[0;34m.\u001b[0m\u001b[0mset_markeredgewidth\u001b[0m\u001b[0;34m(\u001b[0m\u001b[0;36m0\u001b[0m\u001b[0;34m)\u001b[0m\u001b[0;34m\u001b[0m\u001b[0m\n\u001b[1;32m     12\u001b[0m     \u001b[0max\u001b[0m\u001b[0;34m.\u001b[0m\u001b[0mget_lines\u001b[0m\u001b[0;34m(\u001b[0m\u001b[0;34m)\u001b[0m\u001b[0;34m[\u001b[0m\u001b[0mx\u001b[0m\u001b[0;34m+\u001b[0m\u001b[0;36m1\u001b[0m\u001b[0;34m]\u001b[0m\u001b[0;34m.\u001b[0m\u001b[0mset_color\u001b[0m\u001b[0;34m(\u001b[0m\u001b[0mcol\u001b[0m\u001b[0;34m[\u001b[0m\u001b[0mx\u001b[0m\u001b[0;34m]\u001b[0m\u001b[0;34m)\u001b[0m\u001b[0;34m\u001b[0m\u001b[0m\n",
      "\u001b[0;31mIndexError\u001b[0m: list index out of range"
     ]
    },
    {
     "data": {
      "image/png": "[encoded data removed]",
      "text/plain": [
       "<Figure size 504x504 with 1 Axes>"
      ]
     },
     "metadata": {
      "needs_background": "light"
     },
     "output_type": "display_data"
    }
   ],
   "source": [
    "fig, ax = plt.subplots(figsize=(7, 7))\n",
    "# ax.set(yscale='log', xscale='log')\n",
    "p=sp.stats.probplot(pos_w.degree(), plot=ax)\n",
    "k=sp.stats.probplot(neg_w.degree(), plot=ax)\n",
    "r=sp.stats.probplot(randomG.degree(), plot=ax)\n",
    "s=sp.stats.probplot(randomG_2.degree(), plot=ax)\n",
    "\n",
    "col=['blue','','lightsalmon','','green', '','red']\n",
    "for x in np.arange(0,7,2):\n",
    "    ax.get_lines()[x].set_markerfacecolor(col[x])\n",
    "    ax.get_lines()[x].set_markeredgewidth(0)\n",
    "    ax.get_lines()[x+1].set_color(col[x])\n",
    "\n",
    "\n",
    "fig.legend(labels=['pos_w','pos_w','neg_w','neg_w','random','random', 'random_2','random_2']);\n",
    "\n",
    "ax.set(xlabel='Data quantiles', ylabel='observed degree (k)')\n",
    "input = path + 'Networks_degree_' + name + '.svg'\n",
    "plt.savefig(input, format='svg', dpi=1200)\n",
    "plt.show()"
   ]
  },
  {
   "cell_type": "code",
   "execution_count": 54,
   "metadata": {},
   "outputs": [],
   "source": [
    "pos_w_comm = leidenalg.find_partition(pos_w, leidenalg.CPMVertexPartition, weights='w',resolution_parameter=0.4)"
   ]
  },
  {
   "cell_type": "code",
   "execution_count": 32,
   "metadata": {},
   "outputs": [
    {
     "data": {
      "text/plain": [
       "leidenalg.VertexPartition.CPMVertexPartition"
      ]
     },
     "execution_count": 32,
     "metadata": {},
     "output_type": "execute_result"
    }
   ],
   "source": [
    "leidenalg.ModularityVertexPartition\n",
    "leidenalg.CPMVertexPartition"
   ]
  },
  {
   "cell_type": "code",
   "execution_count": 33,
   "metadata": {},
   "outputs": [],
   "source": [
    "def Average(lst): \n",
    "    return sum(lst) / len(lst)"
   ]
  },
  {
   "cell_type": "code",
   "execution_count": 46,
   "metadata": {
    "scrolled": true
   },
   "outputs": [
    {
     "name": "stdout",
     "output_type": "stream",
     "text": [
      "306\n",
      "98\n",
      "64\n",
      "47\n",
      "31\n",
      "27\n",
      "18\n",
      "12\n",
      "11\n",
      "9\n",
      "9\n",
      "9\n",
      "8\n",
      "7\n",
      "6\n",
      "5\n",
      "5\n",
      "5\n",
      "5\n"
     ]
    }
   ],
   "source": [
    "metabolites = pd.Series(pos_w.vs['name'])\n",
    "len(metabolites)\n",
    "for i in range(19):\n",
    "    print(len(metabolites[pos_w_comm[i]]))"
   ]
  },
  {
   "cell_type": "code",
   "execution_count": 55,
   "metadata": {},
   "outputs": [
    {
     "name": "stderr",
     "output_type": "stream",
     "text": [
      "2021-09-29 11:33:07,543 User Defined gene sets is given: /home/flomik/Desktop/Code-PHD/3_layers_integration/processing/Metabolon_lip.gmt\n",
      "2021-09-29 11:33:07,546 Connecting to Enrichr Server to get latest library names\n",
      "2021-09-29 11:33:07,553 Save file of enrichment results: Job Id:139728070937480\n",
      "2021-09-29 11:33:07,767 Done.\n",
      "\n"
     ]
    },
    {
     "name": "stdout",
     "output_type": "stream",
     "text": [
      "average connectivity of the community number  1 which contains 450  metabolites is 478.6 for network pos_w\n"
     ]
    },
    {
     "name": "stderr",
     "output_type": "stream",
     "text": [
      "2021-09-29 11:33:08,008 User Defined gene sets is given: /home/flomik/Desktop/Code-PHD/3_layers_integration/processing/Metabolon_lip.gmt\n",
      "2021-09-29 11:33:08,012 Connecting to Enrichr Server to get latest library names\n",
      "2021-09-29 11:33:08,017 Save file of enrichment results: Job Id:139728057021512\n",
      "2021-09-29 11:33:08,157 Done.\n",
      "\n"
     ]
    },
    {
     "name": "stdout",
     "output_type": "stream",
     "text": [
      "average connectivity of the community number  2 which contains 99  metabolites is 302.43 for network pos_w\n"
     ]
    },
    {
     "name": "stderr",
     "output_type": "stream",
     "text": [
      "2021-09-29 11:33:08,200 User Defined gene sets is given: /home/flomik/Desktop/Code-PHD/3_layers_integration/processing/Metabolon_met.gmt\n",
      "2021-09-29 11:33:08,219 Connecting to Enrichr Server to get latest library names\n",
      "2021-09-29 11:33:08,226 Save file of enrichment results: Job Id:139728057065736\n",
      "2021-09-29 11:33:08,382 Done.\n",
      "\n"
     ]
    },
    {
     "name": "stdout",
     "output_type": "stream",
     "text": [
      "average connectivity of the community number  3 which contains 43  metabolites is 50.26 for network pos_w\n"
     ]
    }
   ],
   "source": [
    "## MSEA + centrality\n",
    "cutoff = 0.1\n",
    "\n",
    "network =[]\n",
    "community = []\n",
    "connectivity = []\n",
    "communities_stats = []\n",
    "n_metabolites = []\n",
    "transitivity = []\n",
    "\n",
    "tot_terms_met = []\n",
    "tot_terms_lip = []\n",
    "tot_terms_mic = []\n",
    "\n",
    "\n",
    "tot_nb =[]\n",
    "\n",
    "c = 0\n",
    "\n",
    "d = pd.DataFrame()\n",
    "\n",
    "net = [pos_w]\n",
    "com_net = [pos_w_comm]\n",
    "names = ['pos_w']\n",
    "\n",
    "for j in [0]:\n",
    "    average = []\n",
    "    a = 1\n",
    "    terms_enriched = []\n",
    "    for i in com_net[j]:\n",
    "        if(len(i)<30):\n",
    "            continue\n",
    "        c = i\n",
    "        degree = pd.Series(net[j].degree())\n",
    "        metabolites = pd.Series(net[j].vs['name'])\n",
    "        degree = degree[c]\n",
    "        metabolites = metabolites[c]\n",
    "        metabolites = metabolites.tolist()\n",
    "        \n",
    "        if (len(conv_2[conv_2['feat1'].isin(metabolites)]) > 1):\n",
    "            enr = gp.enrichr(gene_list= metabolites,description= \"Metabolites\" + str(a),\n",
    "                       gene_sets=\"/home/flomik/Desktop/Code-PHD/3_layers_integration/processing/Metabolon_met.gmt\",\n",
    "                       outdir='/home/flomik/Desktop/Code-PHD/3_layers_integration/results/MSEA_Metabolites',cutoff=0.5,verbose=True, background  = 841)\n",
    "            results=enr.results.sort_values('Adjusted P-value', ascending=True)\n",
    "            results=results.loc[results['Adjusted P-value']<cutoff,]\n",
    "            terms_enriched = results['Term'].tolist()\n",
    "            terms_enriched = terms_enriched\n",
    "            terms_enriched = ','.join(terms_enriched)\n",
    "            tot_terms_met.append(terms_enriched)\n",
    "        else :\n",
    "            tot_terms_met.append('Not')\n",
    "        \n",
    "        if (len(conv_1[conv_1['feat1'].isin(metabolites)]) > 1):\n",
    "            enr = gp.enrichr(gene_list= metabolites,description= \"Lipids\" + str(a),\n",
    "                       gene_sets=\"/home/flomik/Desktop/Code-PHD/3_layers_integration/processing/Metabolon_lip.gmt\",\n",
    "                       outdir='/home/flomik/Desktop/Code-PHD/3_layers_integration/results/MSEA_Lipids',cutoff=0.5,verbose=True, background  = 1143)\n",
    "            results=enr.results.sort_values('Adjusted P-value', ascending=True)\n",
    "            results=results.loc[results['Adjusted P-value']<cutoff,]\n",
    "            terms_enriched = results['Term'].tolist()\n",
    "            terms_enriched = terms_enriched\n",
    "            terms_enriched = ','.join(terms_enriched)\n",
    "            tot_terms_lip.append(terms_enriched)\n",
    "        else :\n",
    "            tot_terms_lip.append('Not')\n",
    "        \n",
    "        if (len(conv_3[conv_3['feat1'].isin(metabolites)]) > 1):\n",
    "            enr = gp.enrichr(gene_list= metabolites,description= \"Microbiome\" + str(a),\n",
    "                       gene_sets=\"/home/flomik/Desktop/Code-PHD/3_layers_integration/processing/Metabolon_mic.gmt\",\n",
    "                       outdir='/home/flomik/Desktop/Code-PHD/3_layers_integration/results/MSEA_Microbiome',cutoff=0.5,verbose=True, background  = 241)\n",
    "            results=enr.results.sort_values('Adjusted P-value', ascending=True)\n",
    "            results=results.loc[results['Adjusted P-value']<cutoff,]\n",
    "            terms_enriched = results['Term'].tolist()\n",
    "            terms_enriched = terms_enriched\n",
    "            terms_enriched = ','.join(terms_enriched)\n",
    "            tot_terms_mic.append(terms_enriched)\n",
    "        else :\n",
    "            tot_terms_mic.append('Not')\n",
    "        \n",
    "        print(\"average connectivity of the community number \", a, \"which contains\", len(c), \" metabolites is\", round(Average(degree), 2), \"for network\", names[j])\n",
    "        \n",
    "        average.append(Average(degree))\n",
    "        communities_stats.append((a,len(c),round(Average(degree), 2)))\n",
    "        network.append(names[j])\n",
    "        connectivity.append(round(Average(degree), 2))\n",
    "        community.append(a)\n",
    "        n_metabolites.append(len(c))\n",
    "        v = net[j].transitivity_local_undirected(vertices = metabolites)\n",
    "        transitivity.append(round(Average(v), 2))\n",
    "        a = a +1\n",
    "        \n",
    "df = pd.DataFrame({'Network_name':network,\n",
    "                   'Connectivity':connectivity,\n",
    "                   'Number_community':community,\n",
    "                   'N_metabolites':n_metabolites,\n",
    "                   'Clustering_coeff':transitivity,\n",
    "                   'Terms_Metabolites':tot_terms_met,\n",
    "                   'Terms_Lipids':tot_terms_lip,\n",
    "                   'Terms_Microbiome':tot_terms_mic\n",
    "                  })\n",
    "\n",
    "\n",
    "\n",
    "input = path + 'Results_centrality_networks_CPM' + name + '.csv'\n",
    "df.to_csv(input, index=False)\n"
   ]
  },
  {
   "cell_type": "code",
   "execution_count": null,
   "metadata": {},
   "outputs": [],
   "source": []
  },
  {
   "cell_type": "code",
   "execution_count": 56,
   "metadata": {},
   "outputs": [
    {
     "data": {
      "text/html": [
       "<div>\n",
       "<style scoped>\n",
       "    .dataframe tbody tr th:only-of-type {\n",
       "        vertical-align: middle;\n",
       "    }\n",
       "\n",
       "    .dataframe tbody tr th {\n",
       "        vertical-align: top;\n",
       "    }\n",
       "\n",
       "    .dataframe thead th {\n",
       "        text-align: right;\n",
       "    }\n",
       "</style>\n",
       "<table border=\"1\" class=\"dataframe\">\n",
       "  <thead>\n",
       "    <tr style=\"text-align: right;\">\n",
       "      <th></th>\n",
       "      <th>Community</th>\n",
       "      <th>Degree</th>\n",
       "      <th>Network</th>\n",
       "      <th>feat1</th>\n",
       "    </tr>\n",
       "  </thead>\n",
       "  <tbody>\n",
       "    <tr>\n",
       "      <th>0</th>\n",
       "      <td>1</td>\n",
       "      <td>1</td>\n",
       "      <td>1</td>\n",
       "      <td>1</td>\n",
       "    </tr>\n",
       "  </tbody>\n",
       "</table>\n",
       "</div>"
      ],
      "text/plain": [
       "  Community Degree Network feat1\n",
       "0         1      1       1     1"
      ]
     },
     "execution_count": 56,
     "metadata": {},
     "output_type": "execute_result"
    }
   ],
   "source": [
    "df_1 = pd.DataFrame({'feat1':['1'],\n",
    "                   'Degree': ['1'],\n",
    "                   'Network':['1'],\n",
    "                   'Community':['1']\n",
    "                  })\n",
    "\n",
    "df_1"
   ]
  },
  {
   "cell_type": "code",
   "execution_count": 58,
   "metadata": {},
   "outputs": [],
   "source": [
    "net = [pos_w]\n",
    "com_net = [pos_w_comm]\n",
    "names = ['pos_w']\n",
    "\n",
    "for j in [0]:\n",
    "    average = []\n",
    "    a = 1\n",
    "    for i in com_net[j]:\n",
    "        tot_metabolites =[]\n",
    "        tot_degree = []\n",
    "        tot_network = []\n",
    "        community = []\n",
    "        if(len(i)<30):\n",
    "            continue\n",
    "        c = i\n",
    "        degree = pd.Series(net[j].degree())\n",
    "        metabolites = pd.Series(net[j].vs['name'])\n",
    "        degree = degree[c]\n",
    "        degree = degree.tolist()\n",
    "        metabolites = metabolites[c]\n",
    "        metabolites = metabolites.tolist()\n",
    "        tot_network = [names[j]]*len(c)\n",
    "        community = [a]*len(c)\n",
    "        tot_degree = degree\n",
    "        tot_metabolites = metabolites\n",
    "        df_2 = pd.DataFrame({'feat1':tot_metabolites,\n",
    "                   'Degree': tot_degree,\n",
    "                   'Network': tot_network,\n",
    "                   'Community':community,\n",
    "                  }, columns = ['feat1', 'Degree', 'Network', 'Community'])\n",
    "        df_1 = pd.concat([df_1, df_2], sort=False)\n",
    "        a = a +1\n",
    "\n",
    "#        "
   ]
  },
  {
   "cell_type": "code",
   "execution_count": 59,
   "metadata": {},
   "outputs": [],
   "source": [
    "df_1 = df_1.merge(conv, on='feat1')\n",
    "input = path + 'Table_nodes_CPM'+ name + '.csv'\n",
    "df_1\n",
    "df_1.to_csv(input, index=False)"
   ]
  }
 ],
 "metadata": {
  "kernelspec": {
   "display_name": "Python 3",
   "language": "python",
   "name": "python3"
  },
  "language_info": {
   "codemirror_mode": {
    "name": "ipython",
    "version": 3
   },
   "file_extension": ".py",
   "mimetype": "text/x-python",
   "name": "python",
   "nbconvert_exporter": "python",
   "pygments_lexer": "ipython3",
   "version": "3.5.2"
  }
 },
 "nbformat": 4,
 "nbformat_minor": 4
}
